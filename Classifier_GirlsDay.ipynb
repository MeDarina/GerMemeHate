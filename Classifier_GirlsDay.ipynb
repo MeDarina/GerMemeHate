{
  "nbformat": 4,
  "nbformat_minor": 0,
  "metadata": {
    "colab": {
      "provenance": [],
      "toc_visible": true,
      "authorship_tag": "ABX9TyO1/vRjQRgq9Omnys/foqh5",
      "include_colab_link": true
    },
    "kernelspec": {
      "name": "python3",
      "display_name": "Python 3"
    },
    "language_info": {
      "name": "python"
    }
  },
  "cells": [
    {
      "cell_type": "markdown",
      "metadata": {
        "id": "view-in-github",
        "colab_type": "text"
      },
      "source": [
        "<a href=\"https://colab.research.google.com/github/MeDarina/GerMemeHate/blob/main/Classifier_GirlsDay.ipynb\" target=\"_parent\"><img src=\"https://colab.research.google.com/assets/colab-badge.svg\" alt=\"Open In Colab\"/></a>"
      ]
    },
    {
      "cell_type": "markdown",
      "source": [
        "![girls-day-logo.avif](data:image/avif;base64,AAAAHGZ0eXBhdmlmAAAAAGF2aWZtaWYxbWlhZgAAAOptZXRhAAAAAAAAACFoZGxyAAAAAAAAAABwaWN0AAAAAAAAAAAAAAAAAAAAAA5waXRtAAAAAAABAAAAImlsb2MAAAAAREAAAQABAAAAAAEOAAEAAAAAAAAV8gAAACNpaW5mAAAAAAABAAAAFWluZmUCAAAAAAEAAGF2MDEAAAAAamlwcnAAAABLaXBjbwAAABNjb2xybmNseAACAAIABoAAAAAMYXYxQ4EADAAAAAAUaXNwZQAAAAAAAAHgAAAAxQAAABBwaXhpAAAAAAMICAgAAAAXaXBtYQAAAAAAAAABAAEEgYIDhAAAFfptZGF0EgAKChgh+/iMECAgaEAy4StEcACCCCBQtF7f12h+dlIoJVGp/LIHFBJsdk/cWveUC3upgK8AHHRxdhH8NwGB7vCwnMZ38zN2VOL0Bv3raKk5HhI/7JmeQNfEwwnhlBhA6qOc1NKsoB8lF2b8isE9ag6UTjL/sKLR1IpnZRCTxHovJms0vfnla8I5UWl68oSWRrK78BaBJgSyZC/BiShCvGesstzaRmvSJAmSFMuTLXSeaQH7r4yEK55LhjH5Y9XnHnsmrk9PJL17ebFScADvrPTgB6DWRvx+z2UiIYIDN0+jcURgPreND78iaoni6g5xhPVvzVR2MaBPJEmC9bofEQqgoRIPWGFPq39lygnnSiHLXnPeX4GUkEf9roKa0uUiaiA16h/Fmee+ra4Ns4VUYqIlLLtzYhLziPGLagABB4s3G+/eZEEEJbnAv7UJPIeZu50ax33Z7QWLWGDiPxT/zdiKs6mJqwHIgXUVJOs8U3OeGdntFhNoMQsN5ctluKInZAHhmSYd3R7LsXf5N7GiFTn2w/G497If+ZDmcf9sjp//Kf1xUk9lkYkUk0/1xteqkXdV8mv7tP88lBe1lh817Sj9+ExzV2zFfr9Lscs/vuIXiudtYOzn5VDDqFXhUGuowJAUmh5wJSSIaBsVAnGp5mBH8pJDSJ7wDQ1QTKB/dCaJ6xnWadkFHGSPfzJa7ZyjcXNklXyDkSHTJRxbuZjOCQvh547HM8NLAGZJg+y1IoIxH2afAIu9SuXS5AxORRU7ph1RiY6mc1VOk2crwjheFT7JH703purIYCeNUt7OC7z+hl6lmdtWlLrg+E5RnVEcywfHG1ua5p5T52W7L2/LPDodGo3/x/2gv7q+BVWYrBiZq4pSgjFB3VgX4QbM0MU2O9W+o8O46WdoANo1q6Tq+SZuZiU2Eg2QxY4mbWiKGE6Jph6S/+n6qrzkU048n0ga9f6J8JbWYP4Hl9RpW+fAdYLVQED6O+xV7nM/ZtC3WA1sEG35wvorVlnLz/cHeD0jZQRoUSTG5KrnitiNVXIqbSoZeBeowJo6LmbZlCWA6pkHWvraULP8qhO4dlA1ai8pIj00zwjQUqVZa6Y4wZq4wvjTXaRxpVkcDpRVJRqc/Xd4YaIIYPT2tf4uddLIq0va7NUJbSM9Z3XlXlY8xninYXuuxfaYJ0CLAgUIiLN5LSy9zMwtbGWiwyBv/Z+rq3KanPEIYXJDWW5z9XLQ8u2mpO4mwrLlxkpB73Y6izYpAZiFKzqIoExpcoSl7BQCJ2Bnmj/65YQNCRhpyivu9q7kddOxDgMrPW4HrXYd0Dsdlq/ideiglCzvzmksqd0kqhVcA3BaoLASSsG90Psd1nEvKCcinBh5qixsuYDmbOSDv6ATIjpokay0pQnhMfLJ5npz0tFBe0tysM73hkTHrdAq+yKyBrNMflcSviqxuo+Qx80NVdlrxb8DfP4+v9r5aFEgEf+qbO1QIpFCwmXHLrPCej0T1YrnIPvrCPIUwaejvwU+R2Qivtxxw+0epWWP2mNvBwZh9DUmPFOB/39T01NKRovqWdBckxp3I3kaBTFAV/doDVgF+h7tsWUU3O95wgAlFroOwvMydZejMKXFZhmEyL/ITzZYN4LbWSgpOgslHRfwx4it1+VkNFDACYiFcq8/7pEU+vKnHLy1AKYpKuUUUNwxufAMi8tnm4q6ca0NKrae/bq9zdQRC6yatmDCFT2GeJyoX4u38sI/RZ+JwSOi5VAiVQn+Bixd00ia6ajduhuWp/UgmoSmJgORxyBnW7iHVtW0MFEtWi3Tm38SZmPzXC9M7OIeNzGaetkxT92Bp6iu7ihLjr8FDp6RcyRV0LkF8CA4spwAS3IUnFjaL/WeJQog8kpvFRH7Mc4maSR1/zVVDFGabYsJuF3kPElFkzviCpChl6TmW2LKOdYa+zH93jkxAo7rQE7ooRLSOp/tjCHEKEBceoyIwAmzv70YZqOtIKFRgxbnf7bX+EvLoIbKdJc64zS2D/ZoqGdL84BrzQawgS2gagFpgxeTjQM4mjSK00DcHmTq5EmlfSkJ0ARU2nH7qaitgQ7Y5Vc3dgLKYfHAcCPLbFCu55xmUysAIaF5PEs9VtgHskwlghA9oT1mf//hv3eVkV23UDel8xHK2PRf3l0C22ANpgyLrn9Ul0pQmtPR/s/fCgtbw3e/kIP0GQ2ne+JUaOFfaDUgtvNWhBdralF4bEEmewGfir8Aitu76oMhuKR/bGDuORsg8oRsauoVoyvk11ZdcMCMtDtkYUFYmwGS68+I/UKqoGS6P4IynUOB4WPLiAFS+KuMJtRQdPKucD5KyQpGBqngecq21p9IGMzKfntYxR97Tvtr2HvdF/+4ocbky1hrBTtfhpoSc2q17GVv8LVdGAyolcuxIgHX/YXNTfqlHhNe5497o04Z2gLCQmnaO5wIQxhVszdZnRbRmpU/3kebO+SZokRllPKWh3ggs8frza1CJXIH1WxjEUX877p9rt06pvFWpQm4qRTAAjzy+GsXaccfcF4U0WpMEuH/AEeLhwIhPM7D2j851rv1myAfVJj0lJi7n2YDLE0lGGxdfZYOiHRQ6Pg8xfhlWQB5jmXwcnLlALr2gxrmCQyCM+2lsV5sUtnbI4luF3lNGT8XAql0cr8CGbtVclFkh7VURzNGveAnawXFo6V1ihHVkNtvQT3nEIQQrJgD4Tb5hkzrz6iSacu7uUMcUkUKfUZCYu9X1lqpyH4P+uqDp0ZUKjLvPQN748ZjnIfMxZKccs5GO+vyOVjZTPQQcaHr76tVmm1CAkcrc1bn8ekb3ygDIRNru0BmiMENv8974dJi1tzT0EqmnVWPU5Llm9rn9c0cw688/DE6/1u/ZGbWmxuFOBMRIXO2dVAySjcbaYbocgtC5fMs1SkuSNUgi4z29gs3btKu5YeYdRqNVjD4RMhV/tAgU+LyqffVnF2XtK1md4sSiGFlhWNY3BokdH7YNAg6YRRE9y8DZGXgwWicbasF3aQT8qFkhKiVxe+XYXhuithpa9D56HS3kdSMhJUaYJDagBX0ZkTb+fwQq+1Uie52KJBdbXHoiaPcSeAeqshRZo9sjOqE6aeIv89wn6DsrYGUzUisGiYADcHc4dmsByPTuN5N68JRNdjP2lc5cvZ+XMpk0wfZujgaqnJyGX+d9q9ooyE5+Z5//i8rgmy0fUj5WQ+DkXh18/sbvEUhLKmLrfhrRHUG0OjfkvC1wMoZ8hcEoiZMiG9nFq5njLVE0AC1vpgp+0ioys/hU9xAcpbUqaYVrg/ZpX5W7Tm+SxWbOY6YECQoZHgrGMunMOaWJyqH8t0ZOPX/YbbuzUCaTJMWOH/+2Y7pyaT9tHBccIeCo1ZtOWiKAONrAnq9gRwI7ZA5dQezKq4/nPKt126JUB7I6+fx3o3RfLsk7Ivws45R56z1fCLLqPjwJo3t6NVYK5wTt5tw2D2Ay6dxrBlAcv5BcFgztHJqw1b5QwRB88iLfu2nEyrmDeVbXBw1TIl+vjkCs6tEZvMxKORKW2jIXU53V20A1phUsXdv03QSe1vmdl6jhyp+/m9Fu9V+NuGsodpC70+b66ZGlepEkU+pZEuxEld40w6l4pi/gYb9NnBFCWnQsWfqNdGpMQRKmHJmmADBvJTYo6vvUE84cadf61lyJXymD0C2t4fh65xHyulFyRwZkUu4SxfVkBdar1ZqM9cQiSwi2ci2zk3rmBjbxwF0898fnBCx/pbwXB3LnJgBpn7XbeYTBRmSl/EissN1eb9c5QjUfpuHMR+7fN/ENKG5OxFVjH1a+geDD+tuTXssTBKxLeAwtk4VnACoOr/1oLOwKqpZWx5MWB5cecJifhhKoa2+s1z5Y6HcilMpqSzUIYvXSfhxVEPZzM8PyRL1CBemc0swkQtFPHt1eY0JNl49vZZgX/eEwmz7E+kG5PiRGqyDCP+eUy33Aij4xc1ntf/FPLLVicHjBGTcxtvKnJVwgtHvOEbLELc3b+puE+QmISpyVco9QmSA4DSMxsTVwuKJQ2Rr7fXEC6EGEgL8Fww8o51B19sR9zyXeMzwL9cPapjkFrvfPjBzRo4fM1s/jV4m2LaTJjPHCAuaN6tw5/APhOxVszg/gir7STDN6DOW6OBk1ww9TnaiMi9rkV/o45n2AGB5YSEu/WW6mTtADSJ6AtaroHuwGJ4LYSsx0if7twlJo+I6qUXk4k7mV2Y70GzgDEYXuNN1FgBcwWOpB18VJfcvoyxk9R+T0PHoERAGtQVq0+LX4O5moMiX5udiJDtqgo/Ltl0UqW7Toyds61lysqKKCh4eOaVAiBZ72lVKNa9QvZZkr85sXR4+KSLktTqtu+7tLOO3CXRwqHcyQK85CQGYcNZ7ggLdRRV/wqn7iKg0CaZprMTC9qomSbu9hAyUodcMHul5l8vgmYO7X5UX5NUg8NpyI07cK9E19swg0g3rU1wT23Or7Q4bLHY/C5LLu/54WW13ZRwNXVFaMVv2CiEnDjl8SItDGCf0tZEh8m4vjTTyZ3sBxiwomcQeDQsJEk3DMHcpiMgjLAWQWTcBp2Brk6yZGG34csNyAvzNNf2Kw/Fr59Fw0N9a5kAx9BOHUQk3FnzR7ZLB36G0t7O5jFnn6jQYcZECGFzdDGmrxHUZTwAlIn4OydXMpdg+HZI0MNyCndkkp9Rct5Z4Y7anjV1LggTe48Ee54iQq/+enP2o58u7K30M2s/C5OiR//gEA9tlTY5K5XuFEB/8eexsRLv0p7PY/h184UOmiIOVu/am6htocF16XEmHsYZ4nI9yHRW1LqQFd02hZ5ihSZvpSt4UjsLS0KbIf0ePWMQCbMCgwEdXC80RZdk6IemuTVMiEeWD6SQ54aUKtoSgLQYsceKO9ecE6gOSV5GPalZjK72HDCYPgcIzhaSK99UbliJPiwybhJdEFxtD4KDpE/h6JlKa/rOqN3eamXUXSSciCiKECHLVXRDri38266sUnX2GFlOhyGaqlxMu0QspNhIblG3a2+xU0cNq3b72f0fXlCSNkjOfc32ySh2e45qBu6BoH8JKx1rHVBTVa+fKfarJ3AkxAIQbYdqvPqmJsLKz5kxHxD5BigUOD7zhQQQxGdpyjyYqEKci4j2dhFPFTCP6wxHKwmgWp6UwgJaD7wXXWjGAtpE8IgtsaVmvWJyteleh+YDa0cexdZ4rMxEeLfevaZMosN8KZC4HEjhmsID9wQu7iVpr3js2Ko7cGiq7zRXNtD7f41UPU/cQABIVLU5H4TZO2cCekmj+oe9P7LqQog3QDQZ/s8JqTrH9Oib7rjQr9iyfXBb1ripjXjpbhgGu1pj/QkIt72YYrR2EKAMisEPqlswrQ9PkgVjH789STk+dkSdCkoyOSKa7UXXujCzIc8mGoma/h1CrOD9/WHcFeRhnoytKB0X9brm1rurWl0Ll1fwNcr1RtpnnuVKEM8uGXabzHNM3hwUdvXa/cWqH1JILyJiYpOqZCKws67/ZG8VV/2pEgKF5j1oglMhwviezZdfYx5XcXtz1hkvHZJnx6a+u2u9b3IXuKW0qQNLBiMSAQdqVymWluS3d5waal3rC02FgtaL12F7oeUxIiOKTU4BpJCDMq2aOsiDNudZOvaADZdjkunhoW/0Y7GytXC+ooBAik7Lxa32pfUUdC8EVdBErnr9ed6s2x0O1NFrfPKrz3efwjz5cTYf0O7HqUkMFruj6bbGmlwiyn+IPpvNgQIxswADYL+O1a1qdEoesgu5Y3ytt42MrP1Wmd/jFQHUIXKS1/ki5uRLhNlXGEB1te+ICVAEwiOjZf2GvLRiqBdFP2rikT9R328Z37L1DhM2SI5ATdr66vjXZamlUYzbNSVMpoOLIa/kqAQJ3zO5Y1HblUIXqTw8CyVxRJNBsieCDtc0SMN2W9yLP6HHwOnzFDZgH0uaXdnYZZHPbXS5ULBFp/deiEJvrOKM5e2Pmj6PbdOG3hgZUH4lgTcePmMk8IHxWpMnR3mj7BdvpwCF+Q4SN+6zZiDNGQnhXlUdHJOfgF7aSvt/popDzzA1JiErkPdsG6WutnzmFSsDyw/GRMbIKPbCROikvolEZdvfwtXsMa9bRY1hrVp1EDkwBVSZQjesic2EiPDle4MIbeU1BifqkDhDBQkh652vUv9YpuF0vBzHR2mkY5KtxJHxhYqIUXJK/y/S8D+s7HWYvP/KLBQMtXZANV7/RhZOLzkhOp7Itboe89Yc4RWSMsB1IITQMljhdVfRKI78Bvl1+UxicW9+KxHI81YeUyj1/DkzS1G50Db4IGwXj3aUs1bFDsqT41DQRefQ2wwDxfsB9T+HUhLFvazueIWkLlSx+n3DMg6GprGlzgLtuiL33uDJMCLILKf/gVoFxU3UL0PpdMPbVKhUZgi99Z1PuR26695Aujq85xpLwXNC2w7fRiZkawXCddzjZaFo3eD/cwas+upbgE/RHq7cZxROmKwdV74+qLT0x/hk/NPATeHLqSiiqujK1AGxSZROXXTN+XZk98Mk59PRsyPRT3bJeRxRqo5H8duSy4Y0sdjzLy/G8ymqh4F5zZfPdipGdjfjebKDfVvG7Jwexc+AokVovjwmdwT6mF2AP5cjVmaSIePZmBf3KefPs7I3dMHPHqh8B4ayNTdcTqAscbVB7qZOLwpRYQeYrBZFwpsESwq+LwwmupeWuog9RSWLvCOLqyFCmV6JD0xRgpL5ewVRAC4nBhPuuF0k9uv9wVhSJt9XRySRIv0AkLwb161OXt1cCSEnhdOKHp428DpA1EtonX7kcSve2mNo5P/mGXHelzymH7u6Sz9+k3zYN5+N+guxz/epEMlKGTtsRKR0YyKXb1x2QluefOTVtS+ljn1L4g3aRNR/ObMnQLyMo+YSiNB4/t6TJZbK6E4/gvmrg14WZVQzpdCCtdMKcgfw006MS6pvD5VeGHort/E+6RIlniWhIuPqPorIND0EX4PTlwJatAObUyn3fCXPDt58x6S6rKnmyySfnfQb6rwCpD/DnD2sDwCPDvUEPrC4zu048g+99473vNBB1ZvIvY6KmZxGHkZPsT00n9UB6jC3NQ4RyRn83DMNOzpVztzHNLfou2erYJtS7Qr0ST/DrRK/RIovouhMIHx6JNEktsSqttas8KfOvBwQFJgR5cBSPExJuTLpMqiCeOE3VvYOcgv/t9CfXYfTlFCfvvlVA85qK5Ye6GYvBatatD37drp/IxALh+elPOmEQXpQAaQIc8zlXysZpZbEZJso6CqtuaCph0y7IAB5nCjLc6Ncm2ev/kkOFsrRBtg5m+/u0QdGj0kSko+QScGz7ECxlMjTWogENPi7snbu3w6wQOL2g1WuVZobLHIDjFvvhI32wQWZbOvTPH5MqBkHOhGWKVg9T+egU9yjxnmvOKdkeA8oq/lhFLznFHhHRn/5MFl2o7OIq73krMjaR5doVre9RedaeqqZMpwzvmiZ5IKy+RynDIUo/EuU=)\n",
        "# Girls Day 2023 --  Wie verstehen Computer menschliche Sprache?\n"
      ],
      "metadata": {
        "id": "knag04a9jnRU"
      }
    },
    {
      "cell_type": "markdown",
      "source": [
        "In dem folgenden Python-Code werden Filmkritiken in POSITIV oder NEGATIV eingeordnet.\n",
        "\n",
        "Dazu werden zwei \"klassische\" Einordnungsmethoden - Naive Bayes und Support Vector Machines - verwendet, die beide nicht mehr state-of-the art ist, aber im Gegensatz zu diesen auch für Nicht-Spezialisten zumindest teilweise nachvollziehbar sind.\n",
        "\n",
        "\n",
        "In der Statistik ist Einordnung bzw Klassifikation das Problem, zu identifizieren, zu welcher einer Reihe von Kategorien eine Beobachtung gehört. Beispiele aus der textuellen Datenverarbeitung sind \n",
        "\n",
        "*   Enthält eine Social Media Nachricht „Hate Speech“ oder nicht?\n",
        "*   Handelt es sich bei einer E-Mail um einen Spam?\n",
        "*   Ist eine Kundenbeurteilung positiv, negativ oder neutral?"
      ],
      "metadata": {
        "id": "fnW8NsjjA8--"
      }
    },
    {
      "cell_type": "markdown",
      "source": [
        "## Bibliotheken und Daten laden"
      ],
      "metadata": {
        "id": "naBeyO3ko1lR"
      }
    },
    {
      "cell_type": "markdown",
      "source": [
        "Zunächst müssen einige Bibliotheken geladen werden - einerseits Programmiercode, so dass Funktionen genutzt werden können, die bereits fertig gestellt wurden, anderseits um Daten zu nutzen.\n",
        "Hier laden werden die Bibliotheken geladen, die wir für die Naive Bayes Methode brauchen (die anderen werden später an zugehöriger Stelle geladen)"
      ],
      "metadata": {
        "id": "pUiMo4GTnXSn"
      }
    },
    {
      "cell_type": "code",
      "execution_count": null,
      "metadata": {
        "colab": {
          "base_uri": "https://localhost:8080/"
        },
        "id": "959WVS4rKu22",
        "outputId": "4855f841-82f9-40df-aac4-b40dc705c6a7"
      },
      "outputs": [
        {
          "name": "stdout",
          "output_type": "stream",
          "text": [
            "NLTK Downloader\n",
            "---------------------------------------------------------------------------\n",
            "    d) Download   l) List    u) Update   c) Config   h) Help   q) Quit\n",
            "---------------------------------------------------------------------------\n",
            "Downloader> d\n",
            "\n",
            "Download which package (l=list; x=cancel)?\n",
            "  Identifier> movie_reviews\n"
          ]
        },
        {
          "output_type": "stream",
          "name": "stderr",
          "text": [
            "    Downloading package movie_reviews to /root/nltk_data...\n",
            "      Package movie_reviews is already up-to-date!\n"
          ]
        },
        {
          "name": "stdout",
          "output_type": "stream",
          "text": [
            "\n",
            "---------------------------------------------------------------------------\n",
            "    d) Download   l) List    u) Update   c) Config   h) Help   q) Quit\n",
            "---------------------------------------------------------------------------\n",
            "Downloader> q\n"
          ]
        },
        {
          "output_type": "execute_result",
          "data": {
            "text/plain": [
              "True"
            ]
          },
          "metadata": {},
          "execution_count": 11
        }
      ],
      "source": [
        "# Load and prepare the dataset\n",
        "# To do so, after running the code, enter \"d\" (for Download) and download (you have to enter d each time before downloading a component)\n",
        "# movie_reviews\n",
        "# punkt\n",
        "# averaged_perceptron_tagger\n",
        "# stopwords\n",
        "# After loading all needed components, enter \"q\" (for Quit)\n",
        "\n",
        "import nltk\n",
        "nltk.download()\n"
      ]
    },
    {
      "cell_type": "markdown",
      "source": [
        "Nachdem die Daten geladen wurden, müssen sie importiert werden. \n",
        "Danach werden sie in eine Liste geschrieben, in der eine Kritik mit der zugehörigen Einordnung (entweder Klasse \"positiv\" oder Klasse \"negativ\" geordnet wird.\n"
      ],
      "metadata": {
        "id": "slZ3XxeMsxuz"
      }
    },
    {
      "cell_type": "code",
      "source": [
        "from nltk.corpus import movie_reviews\n",
        "import random\n",
        "\n",
        "documents = [(list(movie_reviews.words(fileid)), category)\n",
        "              for category in movie_reviews.categories()\n",
        "              for fileid in movie_reviews.fileids(category)]\n",
        "\n",
        "random.shuffle(documents)"
      ],
      "metadata": {
        "id": "0erj7egDLhP2"
      },
      "execution_count": null,
      "outputs": []
    },
    {
      "cell_type": "markdown",
      "source": [
        "Hier können wir das 1. Element anschauen\n",
        "Jedes Element besteht aus 2 Teilen: dem Text und der Zuordnung. Der Text ist eine Liste der Wörter und Satzzeichen (in der Reihenfolge wie sie im Text verwendet werden)."
      ],
      "metadata": {
        "id": "ZzHxgx2XuHvc"
      }
    },
    {
      "cell_type": "code",
      "source": [
        "print (documents[1])"
      ],
      "metadata": {
        "colab": {
          "base_uri": "https://localhost:8080/"
        },
        "id": "Qwg5ZuN8tG6W",
        "outputId": "eec38bc9-bfa3-4630-89ff-a30d37f22aef"
      },
      "execution_count": null,
      "outputs": [
        {
          "output_type": "stream",
          "name": "stdout",
          "text": [
            "(['everything', 'in', 'the', 'phantom', 'you', 'have', 'seen', 'many', 'times', 'before', 'and', 'there', 'is', 'nothing', 'new', 'presented', 'here', '.', 'wincer', 'displays', 'absolutely', 'no', 'skill', 'in', 'setting', 'up', 'an', 'exciting', 'action', 'sequence', '.', 'billy', 'zane', 'is', 'wooden', 'as', 'the', 'hero', '.', 'kristy', 'swanson', 'is', 'given', 'very', 'little', 'to', 'do', ',', 'and', 'does', 'very', 'little', 'with', 'it', '.', 'treat', 'williams', ',', 'looking', 'like', 'rhett', 'butler', 'but', 'sounding', 'like', 'mickey', 'mouse', ',', 'is', 'one', 'of', 'the', 'worst', 'villains', 'i', 'have', 'ever', 'seen', 'in', 'a', 'movie', '.', 'only', 'catherine', 'zeta', 'jones', ',', 'as', 'one', 'of', 'williams', 'cohorts', 'turns', 'in', 'a', 'good', 'performance', '.', 'she', 'has', 'energy', 'and', 'spunk', ',', 'which', 'the', 'movie', 'needed', 'much', 'more', 'of', '.', 'oh', 'yeah', ',', 'the', 'phantom', 'also', 'has', 'a', 'secret', 'identity', 'but', 'this', 'is', 'so', 'poorly', 'played', 'out', 'you', 'won', \"'\", 't', 'even', 'care', '.', 'about', 'the', 'only', 'things', 'i', 'can', 'recommend', 'are', 'a', 'good', 'performance', 'by', 'jones', ',', 'and', 'some', 'colorful', 'scenery', '.', 'however', ',', 'if', 'youre', 'looking', 'for', 'a', 'fun', 'family', 'movie', ',', 'go', 'watch', 'the', 'underrated', 'flipper', '.', 'this', 'is', 'not', 'a', 'good', 'movie', '.'], 'neg')\n"
          ]
        }
      ]
    },
    {
      "cell_type": "markdown",
      "source": [
        "## Extraktion der Features"
      ],
      "metadata": {
        "id": "4vgxfxlzBn2b"
      }
    },
    {
      "cell_type": "markdown",
      "source": [
        "Die Zuordnung zu einer Klasse basiert oft auf beobachteten Mermalen zB Vorhandensein oder Nichtvorhandensein bestimmter beleidigender Worte, Rechtschreibfehler, ... .\n",
        "\n",
        "Diese Merkmale nennt man auch Features und beide hier vorgestellten Methoden machen Gebrauch davon."
      ],
      "metadata": {
        "id": "jnocwWZJCKlH"
      }
    },
    {
      "cell_type": "markdown",
      "source": [
        "Hier laden wir eine Liste von positiven Wörtern und eine Liste von negativen Wörtern von einer Github-Datei. (Diese werden aufbereitet, so dass jedes Wort ein Element in einer Liste ist)"
      ],
      "metadata": {
        "id": "pSdwJAd2-xCI"
      }
    },
    {
      "cell_type": "code",
      "source": [
        "# load positive and negative word list\n",
        "import requests\n",
        "def makeWordListFromURL(url):\n",
        "  read_data = requests.get(url).content.decode(encoding=\"ISO-8859-1\").rsplit()\n",
        "  listOFWords= []\n",
        "  i=0\n",
        "  for word in read_data:\n",
        "    if i>212:\n",
        "      listOFWords.append(word)\n",
        "      #print (i, ' ', l)\n",
        "    i=i+1\n",
        "  return listOFWords\n",
        "\n",
        "positiveWords = makeWordListFromURL(\"https://raw.githubusercontent.com/shekhargulati/sentiment-analysis-python/master/opinion-lexicon-English/positive-words.txt\")\n",
        "negativeWords = makeWordListFromURL(\"https://raw.githubusercontent.com/shekhargulati/sentiment-analysis-python/master/opinion-lexicon-English/negative-words.txt\")"
      ],
      "metadata": {
        "id": "-qV3wL8nmEzf"
      },
      "execution_count": null,
      "outputs": []
    },
    {
      "cell_type": "markdown",
      "source": [
        "Hier laden wir eine Liste von \"stop words\" oder auch \"function words\" genannt. Dies sind Wörter wie Artikel, Präpositionen, oder Personalprononomen - die im Gegensatz zu Nomen, Verben, Adjektiven / Adverben weniger zum Inhalt eines Textes beitragen."
      ],
      "metadata": {
        "id": "D3Wh0WnMKCIv"
      }
    },
    {
      "cell_type": "code",
      "source": [
        "# load stopwords\n",
        "from nltk.corpus import stopwords\n",
        "stops = set(stopwords.words('english'))"
      ],
      "metadata": {
        "id": "tZgjVnR3nF35"
      },
      "execution_count": null,
      "outputs": []
    },
    {
      "cell_type": "markdown",
      "source": [
        "Hier definieren wir eine Funktion, die alle Wörter in einem Dokument (einer Filmkritik) prüft und schaut, ob es in den vorher geladenen Listen (positive oder negative Wörter sowie der Stopwordliste) gelistet ist.\n",
        "Außerdem schreibt diese Funktion jedem Wort seine Wortart (part of speech -> POS) zu."
      ],
      "metadata": {
        "id": "3iRFmueIK2aO"
      }
    },
    {
      "cell_type": "code",
      "source": [
        "from nltk.corpus import stopwords\n",
        "stops = set(stopwords.words('english'))\n",
        "\n",
        "def document_features(document):\n",
        "    document_words = set(document)\n",
        "    features = {}\n",
        "    for word2 in document:\n",
        "      features['pos({})'.format(word2)] = nltk.tag.pos_tag([word2])[0][1]\n",
        "      features['isStopword({})'.format(word2)] = (word2 in stops)\n",
        "      features['isPositive({})'.format(word2)] = (word2 in positiveWords)\n",
        "      features['isNegative({})'.format(word2)] = (word2 in negativeWords)\n",
        "    return features"
      ],
      "metadata": {
        "id": "LY6f2yf2zlmU"
      },
      "execution_count": null,
      "outputs": []
    },
    {
      "cell_type": "markdown",
      "source": [
        "Die Filmkritiken, die wir geladen haben, werden nun mit den Merkmalen / Eigenschaften versehen, um die Wahrscheinlichkeiten berechnen zu können."
      ],
      "metadata": {
        "id": "mTcXRVNMOg3R"
      }
    },
    {
      "cell_type": "code",
      "source": [
        "\n",
        "featuresets = [(document_features(d), c) for (d,c) in documents[:1000]]\n"
      ],
      "metadata": {
        "id": "hqY5q0i8L6a0"
      },
      "execution_count": null,
      "outputs": []
    },
    {
      "cell_type": "markdown",
      "source": [
        "Die klassifizierten und mit Markmalen / Eigenschaften versehenen Daten werden in Trainings - und Testset aufgeteilt, um einerseits den Klassifizierer zu trainieren und ihn dann zu evaluieren (auf ungesehenen Daten)"
      ],
      "metadata": {
        "id": "7f17nLefO-RA"
      }
    },
    {
      "cell_type": "code",
      "source": [
        "train_set, test_set = featuresets[800:], featuresets[:200]"
      ],
      "metadata": {
        "id": "I7Ku5_69O3u_"
      },
      "execution_count": null,
      "outputs": []
    },
    {
      "cell_type": "code",
      "source": [
        "print (featuresets)"
      ],
      "metadata": {
        "colab": {
          "base_uri": "https://localhost:8080/"
        },
        "id": "quE7Fg4o0dCC",
        "outputId": "5dcc6b15-a44d-4c3b-d691-c5673e7cea31"
      },
      "execution_count": null,
      "outputs": [
        {
          "output_type": "stream",
          "name": "stderr",
          "text": [
            "IOPub data rate exceeded.\n",
            "The notebook server will temporarily stop sending output\n",
            "to the client in order to avoid crashing it.\n",
            "To change this limit, set the config variable\n",
            "`--NotebookApp.iopub_data_rate_limit`.\n",
            "\n",
            "Current values:\n",
            "NotebookApp.iopub_data_rate_limit=1000000.0 (bytes/sec)\n",
            "NotebookApp.rate_limit_window=3.0 (secs)\n",
            "\n"
          ]
        }
      ]
    },
    {
      "cell_type": "markdown",
      "source": [
        "## Einordnung von Filmkritiken mit Naive Bayes"
      ],
      "metadata": {
        "id": "QIsAJr6mp2M9"
      }
    },
    {
      "cell_type": "markdown",
      "source": [
        "[Naive Bayes](https://https://en.wikipedia.org/wiki/Naive_Bayes_classifier) ist ein Algorithmus der maschinellen Textverarbeitung, der verwendet wird, um Texte automatisch zu klassifizieren.\n",
        "Im Falle von Textklassifikation wird Naive Bayes verwendet, um die Wahrscheinlichkeit zu berechnen, dass ein bestimmtes Dokument zu einer bestimmten Kategorie gehört.\n",
        "Der Algorithmus analysiert den Text und extrahiert bestimmte Merkmale - in diesem Beispiel die Wortart aller Wörter sowie das das Vorhandensein / Nichtvorhandensein bestimmter Wörter - die mit bestimmten Kategorien verbunden sind.\n",
        "Anschließend werden diese Merkmale verwendet, um die Wahrscheinlichkeit zu berechnen, dass das Dokument zu jeder Kategorie gehört.\n",
        "Der Algorithmus wählt dann die Kategorie aus, die die höchste Wahrscheinlichkeit hat, und klassifiziert das Dokument entsprechend."
      ],
      "metadata": {
        "id": "sqgYUN2x7bhK"
      }
    },
    {
      "cell_type": "code",
      "source": [
        "# Train Naive Bayes classifier\n",
        "nb_classifier = nltk.NaiveBayesClassifier.train(train_set)"
      ],
      "metadata": {
        "id": "-4QYA5QDuFtO"
      },
      "execution_count": null,
      "outputs": []
    },
    {
      "cell_type": "markdown",
      "source": [
        "## Evaluation der Naive Bayes Methode"
      ],
      "metadata": {
        "id": "Pt90rEnEP3LL"
      }
    },
    {
      "cell_type": "markdown",
      "source": [
        "Man sollte berechnen können, wie gut eine Klassifikation ist (Evaluation)\n",
        "Dafür braucht man ein ungesehenes Set mit klassifizierten Daten (Test-Set)\n",
        "Die einfachste Metrik ist ”%-Agreement” (Übereinstimmung) d.h. wie viele Vorhersagen waren richtig?"
      ],
      "metadata": {
        "id": "4puVGa0TQZxQ"
      }
    },
    {
      "cell_type": "code",
      "source": [
        "# Test the classifier\n",
        "print(nltk.classify.accuracy(nb_classifier, test_set))"
      ],
      "metadata": {
        "colab": {
          "base_uri": "https://localhost:8080/"
        },
        "id": "Hv1lTdtxMATb",
        "outputId": "3de440d0-40f5-4307-fa58-723d21cb1d19"
      },
      "execution_count": null,
      "outputs": [
        {
          "output_type": "stream",
          "name": "stdout",
          "text": [
            "0.635\n"
          ]
        }
      ]
    },
    {
      "cell_type": "markdown",
      "source": [
        "Wir können uns hier die hilfreichsten Features ausgeben lassen"
      ],
      "metadata": {
        "id": "_c1HgtQbQrB2"
      }
    },
    {
      "cell_type": "code",
      "source": [
        "# Show the most important features as interpreted by Naive Bayes\n",
        "nb_classifier.show_most_informative_features(10)"
      ],
      "metadata": {
        "colab": {
          "base_uri": "https://localhost:8080/"
        },
        "id": "5nvtKm7RMFP1",
        "outputId": "f126a316-4dd1-4844-d53b-b3bab04145d0"
      },
      "execution_count": null,
      "outputs": [
        {
          "output_type": "stream",
          "name": "stdout",
          "text": [
            "Most Informative Features\n",
            "      isNegative(chosen) = False             neg : pos    =      7.7 : 1.0\n",
            "      isPositive(chosen) = False             neg : pos    =      7.7 : 1.0\n",
            "      isStopword(chosen) = False             neg : pos    =      7.7 : 1.0\n",
            "             pos(chosen) = 'NN'              neg : pos    =      7.7 : 1.0\n",
            "       isNegative(awful) = True              neg : pos    =      7.0 : 1.0\n",
            "        isNegative(joke) = True              neg : pos    =      7.0 : 1.0\n",
            "      isNegative(lawyer) = False             pos : neg    =      7.0 : 1.0\n",
            "    isNegative(produced) = False             neg : pos    =      7.0 : 1.0\n",
            "    isNegative(talented) = False             neg : pos    =      7.0 : 1.0\n",
            "       isPositive(awful) = False             neg : pos    =      7.0 : 1.0\n"
          ]
        }
      ]
    },
    {
      "cell_type": "markdown",
      "source": [
        "Hier können wir die Methode auf einem selbstgeschrieben Text ausprobieren"
      ],
      "metadata": {
        "id": "F7H8QQ3wQAOC"
      }
    },
    {
      "cell_type": "code",
      "source": [
        "#from nltk.tokenize import word_tokenize\n",
        "s = 'The movie was so outstanding, I was totally fascinated. Just great and wonderful and magic.'\n",
        "nb_classifier.classify(document_features(s))"
      ],
      "metadata": {
        "id": "UeQNG8sVjElF",
        "colab": {
          "base_uri": "https://localhost:8080/",
          "height": 35
        },
        "outputId": "cbaefe74-a272-4b08-a97c-aa1a7d20b2c6"
      },
      "execution_count": null,
      "outputs": [
        {
          "output_type": "execute_result",
          "data": {
            "text/plain": [
              "'neg'"
            ],
            "application/vnd.google.colaboratory.intrinsic+json": {
              "type": "string"
            }
          },
          "metadata": {},
          "execution_count": 15
        }
      ]
    },
    {
      "cell_type": "markdown",
      "source": [
        "## Einordnung mit SVM"
      ],
      "metadata": {
        "id": "Ec3UqVlz0keM"
      }
    },
    {
      "cell_type": "markdown",
      "source": [
        "Wie auch Naive Bayes sind SVMs (Support Vector Machines) ist ein Algorithmus der maschinellen Textverarbeitung, der verwendet wird, um Texte automatisch zu klassifizieren.\n",
        "Der Algorithmus sucht nach einem optimalen Trennpunkt zwischen den verschiedenen Kategorien, indem er versucht, eine sogenannte \"Margin\" zu maximieren - das ist der Abstand zwischen den Datenpunkten der verschiedenen Kategorien.\n",
        "SVMs wählen dann den Trennpunkt, der diese Margin am besten maximiert."
      ],
      "metadata": {
        "id": "rD2eV6BdRIZi"
      }
    },
    {
      "cell_type": "code",
      "source": [
        "from nltk.classify.scikitlearn import SklearnClassifier\n",
        "from sklearn.svm import SVC\n",
        "from sklearn import model_selection"
      ],
      "metadata": {
        "id": "_HAKKlkJ0tDY"
      },
      "execution_count": null,
      "outputs": []
    },
    {
      "cell_type": "code",
      "source": [
        "svc = SklearnClassifier(SVC(kernel = 'linear'))\n",
        "svc.train(train_set)"
      ],
      "metadata": {
        "id": "gKBZxM16kwFR"
      },
      "execution_count": null,
      "outputs": []
    },
    {
      "cell_type": "code",
      "source": [],
      "metadata": {
        "id": "jHKwNC3axxgs"
      },
      "execution_count": null,
      "outputs": []
    },
    {
      "cell_type": "markdown",
      "source": [
        "Evaluation der SVM-Methode"
      ],
      "metadata": {
        "id": "xGASH-kNQ9GC"
      }
    },
    {
      "cell_type": "code",
      "source": [
        "print (nltk.classify.accuracy(svc, test_set))"
      ],
      "metadata": {
        "colab": {
          "base_uri": "https://localhost:8080/"
        },
        "id": "F-IfUvR6lbgV",
        "outputId": "5152c75c-0254-4e48-9451-0485a93d30a9"
      },
      "execution_count": null,
      "outputs": [
        {
          "output_type": "stream",
          "name": "stdout",
          "text": [
            "0.77\n"
          ]
        }
      ]
    }
  ]
}